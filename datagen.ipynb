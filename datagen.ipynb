{
 "cells": [
  {
   "cell_type": "code",
   "execution_count": 1,
   "id": "ce1cf21b",
   "metadata": {},
   "outputs": [
    {
     "name": "stdout",
     "output_type": "stream",
     "text": [
      "Requirement already satisfied: pandas in c:\\users\\ayush.a.panda\\appdata\\local\\programs\\python\\python313\\lib\\site-packages (2.3.0)\n",
      "Collecting faker\n",
      "  Downloading faker-37.4.0-py3-none-any.whl.metadata (15 kB)\n",
      "Requirement already satisfied: numpy>=1.26.0 in c:\\users\\ayush.a.panda\\appdata\\local\\programs\\python\\python313\\lib\\site-packages (from pandas) (2.3.0)\n",
      "Requirement already satisfied: python-dateutil>=2.8.2 in c:\\users\\ayush.a.panda\\appdata\\local\\programs\\python\\python313\\lib\\site-packages (from pandas) (2.9.0.post0)\n",
      "Requirement already satisfied: pytz>=2020.1 in c:\\users\\ayush.a.panda\\appdata\\local\\programs\\python\\python313\\lib\\site-packages (from pandas) (2025.2)\n",
      "Requirement already satisfied: tzdata>=2022.7 in c:\\users\\ayush.a.panda\\appdata\\local\\programs\\python\\python313\\lib\\site-packages (from pandas) (2025.2)\n",
      "Requirement already satisfied: six>=1.5 in c:\\users\\ayush.a.panda\\appdata\\local\\programs\\python\\python313\\lib\\site-packages (from python-dateutil>=2.8.2->pandas) (1.17.0)\n",
      "Downloading faker-37.4.0-py3-none-any.whl (1.9 MB)\n",
      "   ---------------------------------------- 0.0/1.9 MB ? eta -:--:--\n",
      "   ---------------------------------------- 1.9/1.9 MB 12.4 MB/s eta 0:00:00\n",
      "Installing collected packages: faker\n",
      "Successfully installed faker-37.4.0\n",
      "Note: you may need to restart the kernel to use updated packages.\n"
     ]
    }
   ],
   "source": [
    "pip install pandas faker\n"
   ]
  },
  {
   "cell_type": "code",
   "execution_count": null,
   "id": "d29d664e",
   "metadata": {},
   "outputs": [
    {
     "name": "stdout",
     "output_type": "stream",
     "text": [
      "✅ Generated 100k dataset with 'anomaly' column set to 0.\n"
     ]
    }
   ],
   "source": [
    "import pandas as pd\n",
    "import numpy as np\n",
    "from faker import Faker\n",
    "\n",
    "# Load original CSV\n",
    "pd.read_csv(\"C:\\\\Users\\\\ayush.a.panda\\\\Anomaly Detection\\\\data\\\\dummy_test_dataDB.csv\")\n",
    "target_size = 100_000\n",
    "current_size = len(original_df)\n",
    "\n",
    "# Initialize Faker\n",
    "faker = Faker()\n",
    "\n",
    "# Function to generate one fake row\n",
    "def generate_row(template_row):\n",
    "    new_row = {}\n",
    "    for column, value in template_row.items():\n",
    "        if pd.api.types.is_numeric_dtype(type(value)):\n",
    "            new_row[column] = np.random.randint(0, 1000) if isinstance(value, int) else np.round(np.random.uniform(0, 1000), 2)\n",
    "        elif isinstance(value, str):\n",
    "            new_row[column] = faker.word() if len(value.split()) == 1 else faker.sentence(nb_words=4)\n",
    "        elif isinstance(value, bool):\n",
    "            new_row[column] = np.random.choice([True, False])\n",
    "        else:\n",
    "            new_row[column] = value\n",
    "    return new_row\n",
    "\n",
    "# Generate synthetic rows\n",
    "template_row = original_df.iloc[0]\n",
    "new_data = [generate_row(template_row) for _ in range(target_size - current_size)]\n",
    "\n",
    "# Create DataFrame for new rows\n",
    "new_df = pd.DataFrame(new_data)\n",
    "\n",
    "# Add anomaly column with all 0s\n",
    "original_df['anomaly'] = 0\n",
    "new_df['anomaly'] = 0\n",
    "\n",
    "# Concatenate and save\n",
    "final_df = pd.concat([original_df, new_df], ignore_index=True)\n",
    "final_df.to_csv('dummy_test_dataDB_100k_with_anomaly.csv', index=False)\n",
    "print(\"✅ Generated 100k dataset with 'anomaly' column set to 0.\")\n",
    "\n",
    "\n"
   ]
  }
 ],
 "metadata": {
  "kernelspec": {
   "display_name": "Python 3",
   "language": "python",
   "name": "python3"
  },
  "language_info": {
   "codemirror_mode": {
    "name": "ipython",
    "version": 3
   },
   "file_extension": ".py",
   "mimetype": "text/x-python",
   "name": "python",
   "nbconvert_exporter": "python",
   "pygments_lexer": "ipython3",
   "version": "3.13.4"
  }
 },
 "nbformat": 4,
 "nbformat_minor": 5
}
